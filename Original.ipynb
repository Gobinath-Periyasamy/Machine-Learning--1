{
 "cells": [
  {
   "cell_type": "code",
   "execution_count": 52,
   "metadata": {},
   "outputs": [],
   "source": [
    "#importing necessary libraries\n",
    "import numpy as np\n",
    "import pandas as pd\n",
    "from numpy import linalg as LA\n",
    "import matplotlib.pyplot as plt\n",
    "from sklearn import datasets\n",
    "import seaborn as sb\n",
    "import sys"
   ]
  },
  {
   "cell_type": "markdown",
   "metadata": {},
   "source": [
    "### PCA"
   ]
  },
  {
   "cell_type": "code",
   "execution_count": 53,
   "metadata": {},
   "outputs": [],
   "source": [
    "data = datasets.load_iris()['data']\n",
    "label = datasets.load_iris()['target']"
   ]
  },
  {
   "cell_type": "code",
   "execution_count": 54,
   "metadata": {},
   "outputs": [
    {
     "data": {
      "text/plain": [
       "array([[5.1, 3.5, 1.4, 0.2],\n",
       "       [4.9, 3. , 1.4, 0.2],\n",
       "       [4.7, 3.2, 1.3, 0.2],\n",
       "       [4.6, 3.1, 1.5, 0.2],\n",
       "       [5. , 3.6, 1.4, 0.2],\n",
       "       [5.4, 3.9, 1.7, 0.4],\n",
       "       [4.6, 3.4, 1.4, 0.3],\n",
       "       [5. , 3.4, 1.5, 0.2],\n",
       "       [4.4, 2.9, 1.4, 0.2],\n",
       "       [4.9, 3.1, 1.5, 0.1],\n",
       "       [5.4, 3.7, 1.5, 0.2],\n",
       "       [4.8, 3.4, 1.6, 0.2],\n",
       "       [4.8, 3. , 1.4, 0.1],\n",
       "       [4.3, 3. , 1.1, 0.1],\n",
       "       [5.8, 4. , 1.2, 0.2],\n",
       "       [5.7, 4.4, 1.5, 0.4],\n",
       "       [5.4, 3.9, 1.3, 0.4],\n",
       "       [5.1, 3.5, 1.4, 0.3],\n",
       "       [5.7, 3.8, 1.7, 0.3],\n",
       "       [5.1, 3.8, 1.5, 0.3],\n",
       "       [5.4, 3.4, 1.7, 0.2],\n",
       "       [5.1, 3.7, 1.5, 0.4],\n",
       "       [4.6, 3.6, 1. , 0.2],\n",
       "       [5.1, 3.3, 1.7, 0.5],\n",
       "       [4.8, 3.4, 1.9, 0.2],\n",
       "       [5. , 3. , 1.6, 0.2],\n",
       "       [5. , 3.4, 1.6, 0.4],\n",
       "       [5.2, 3.5, 1.5, 0.2],\n",
       "       [5.2, 3.4, 1.4, 0.2],\n",
       "       [4.7, 3.2, 1.6, 0.2],\n",
       "       [4.8, 3.1, 1.6, 0.2],\n",
       "       [5.4, 3.4, 1.5, 0.4],\n",
       "       [5.2, 4.1, 1.5, 0.1],\n",
       "       [5.5, 4.2, 1.4, 0.2],\n",
       "       [4.9, 3.1, 1.5, 0.2],\n",
       "       [5. , 3.2, 1.2, 0.2],\n",
       "       [5.5, 3.5, 1.3, 0.2],\n",
       "       [4.9, 3.6, 1.4, 0.1],\n",
       "       [4.4, 3. , 1.3, 0.2],\n",
       "       [5.1, 3.4, 1.5, 0.2],\n",
       "       [5. , 3.5, 1.3, 0.3],\n",
       "       [4.5, 2.3, 1.3, 0.3],\n",
       "       [4.4, 3.2, 1.3, 0.2],\n",
       "       [5. , 3.5, 1.6, 0.6],\n",
       "       [5.1, 3.8, 1.9, 0.4],\n",
       "       [4.8, 3. , 1.4, 0.3],\n",
       "       [5.1, 3.8, 1.6, 0.2],\n",
       "       [4.6, 3.2, 1.4, 0.2],\n",
       "       [5.3, 3.7, 1.5, 0.2],\n",
       "       [5. , 3.3, 1.4, 0.2],\n",
       "       [7. , 3.2, 4.7, 1.4],\n",
       "       [6.4, 3.2, 4.5, 1.5],\n",
       "       [6.9, 3.1, 4.9, 1.5],\n",
       "       [5.5, 2.3, 4. , 1.3],\n",
       "       [6.5, 2.8, 4.6, 1.5],\n",
       "       [5.7, 2.8, 4.5, 1.3],\n",
       "       [6.3, 3.3, 4.7, 1.6],\n",
       "       [4.9, 2.4, 3.3, 1. ],\n",
       "       [6.6, 2.9, 4.6, 1.3],\n",
       "       [5.2, 2.7, 3.9, 1.4],\n",
       "       [5. , 2. , 3.5, 1. ],\n",
       "       [5.9, 3. , 4.2, 1.5],\n",
       "       [6. , 2.2, 4. , 1. ],\n",
       "       [6.1, 2.9, 4.7, 1.4],\n",
       "       [5.6, 2.9, 3.6, 1.3],\n",
       "       [6.7, 3.1, 4.4, 1.4],\n",
       "       [5.6, 3. , 4.5, 1.5],\n",
       "       [5.8, 2.7, 4.1, 1. ],\n",
       "       [6.2, 2.2, 4.5, 1.5],\n",
       "       [5.6, 2.5, 3.9, 1.1],\n",
       "       [5.9, 3.2, 4.8, 1.8],\n",
       "       [6.1, 2.8, 4. , 1.3],\n",
       "       [6.3, 2.5, 4.9, 1.5],\n",
       "       [6.1, 2.8, 4.7, 1.2],\n",
       "       [6.4, 2.9, 4.3, 1.3],\n",
       "       [6.6, 3. , 4.4, 1.4],\n",
       "       [6.8, 2.8, 4.8, 1.4],\n",
       "       [6.7, 3. , 5. , 1.7],\n",
       "       [6. , 2.9, 4.5, 1.5],\n",
       "       [5.7, 2.6, 3.5, 1. ],\n",
       "       [5.5, 2.4, 3.8, 1.1],\n",
       "       [5.5, 2.4, 3.7, 1. ],\n",
       "       [5.8, 2.7, 3.9, 1.2],\n",
       "       [6. , 2.7, 5.1, 1.6],\n",
       "       [5.4, 3. , 4.5, 1.5],\n",
       "       [6. , 3.4, 4.5, 1.6],\n",
       "       [6.7, 3.1, 4.7, 1.5],\n",
       "       [6.3, 2.3, 4.4, 1.3],\n",
       "       [5.6, 3. , 4.1, 1.3],\n",
       "       [5.5, 2.5, 4. , 1.3],\n",
       "       [5.5, 2.6, 4.4, 1.2],\n",
       "       [6.1, 3. , 4.6, 1.4],\n",
       "       [5.8, 2.6, 4. , 1.2],\n",
       "       [5. , 2.3, 3.3, 1. ],\n",
       "       [5.6, 2.7, 4.2, 1.3],\n",
       "       [5.7, 3. , 4.2, 1.2],\n",
       "       [5.7, 2.9, 4.2, 1.3],\n",
       "       [6.2, 2.9, 4.3, 1.3],\n",
       "       [5.1, 2.5, 3. , 1.1],\n",
       "       [5.7, 2.8, 4.1, 1.3],\n",
       "       [6.3, 3.3, 6. , 2.5],\n",
       "       [5.8, 2.7, 5.1, 1.9],\n",
       "       [7.1, 3. , 5.9, 2.1],\n",
       "       [6.3, 2.9, 5.6, 1.8],\n",
       "       [6.5, 3. , 5.8, 2.2],\n",
       "       [7.6, 3. , 6.6, 2.1],\n",
       "       [4.9, 2.5, 4.5, 1.7],\n",
       "       [7.3, 2.9, 6.3, 1.8],\n",
       "       [6.7, 2.5, 5.8, 1.8],\n",
       "       [7.2, 3.6, 6.1, 2.5],\n",
       "       [6.5, 3.2, 5.1, 2. ],\n",
       "       [6.4, 2.7, 5.3, 1.9],\n",
       "       [6.8, 3. , 5.5, 2.1],\n",
       "       [5.7, 2.5, 5. , 2. ],\n",
       "       [5.8, 2.8, 5.1, 2.4],\n",
       "       [6.4, 3.2, 5.3, 2.3],\n",
       "       [6.5, 3. , 5.5, 1.8],\n",
       "       [7.7, 3.8, 6.7, 2.2],\n",
       "       [7.7, 2.6, 6.9, 2.3],\n",
       "       [6. , 2.2, 5. , 1.5],\n",
       "       [6.9, 3.2, 5.7, 2.3],\n",
       "       [5.6, 2.8, 4.9, 2. ],\n",
       "       [7.7, 2.8, 6.7, 2. ],\n",
       "       [6.3, 2.7, 4.9, 1.8],\n",
       "       [6.7, 3.3, 5.7, 2.1],\n",
       "       [7.2, 3.2, 6. , 1.8],\n",
       "       [6.2, 2.8, 4.8, 1.8],\n",
       "       [6.1, 3. , 4.9, 1.8],\n",
       "       [6.4, 2.8, 5.6, 2.1],\n",
       "       [7.2, 3. , 5.8, 1.6],\n",
       "       [7.4, 2.8, 6.1, 1.9],\n",
       "       [7.9, 3.8, 6.4, 2. ],\n",
       "       [6.4, 2.8, 5.6, 2.2],\n",
       "       [6.3, 2.8, 5.1, 1.5],\n",
       "       [6.1, 2.6, 5.6, 1.4],\n",
       "       [7.7, 3. , 6.1, 2.3],\n",
       "       [6.3, 3.4, 5.6, 2.4],\n",
       "       [6.4, 3.1, 5.5, 1.8],\n",
       "       [6. , 3. , 4.8, 1.8],\n",
       "       [6.9, 3.1, 5.4, 2.1],\n",
       "       [6.7, 3.1, 5.6, 2.4],\n",
       "       [6.9, 3.1, 5.1, 2.3],\n",
       "       [5.8, 2.7, 5.1, 1.9],\n",
       "       [6.8, 3.2, 5.9, 2.3],\n",
       "       [6.7, 3.3, 5.7, 2.5],\n",
       "       [6.7, 3. , 5.2, 2.3],\n",
       "       [6.3, 2.5, 5. , 1.9],\n",
       "       [6.5, 3. , 5.2, 2. ],\n",
       "       [6.2, 3.4, 5.4, 2.3],\n",
       "       [5.9, 3. , 5.1, 1.8]])"
      ]
     },
     "execution_count": 54,
     "metadata": {},
     "output_type": "execute_result"
    }
   ],
   "source": [
    "#sepal length','sepal width','petal length','petal width'\n",
    "data"
   ]
  },
  {
   "cell_type": "code",
   "execution_count": 55,
   "metadata": {},
   "outputs": [
    {
     "data": {
      "text/plain": [
       "array([0, 0, 0, 0, 0, 0, 0, 0, 0, 0, 0, 0, 0, 0, 0, 0, 0, 0, 0, 0, 0, 0,\n",
       "       0, 0, 0, 0, 0, 0, 0, 0, 0, 0, 0, 0, 0, 0, 0, 0, 0, 0, 0, 0, 0, 0,\n",
       "       0, 0, 0, 0, 0, 0, 1, 1, 1, 1, 1, 1, 1, 1, 1, 1, 1, 1, 1, 1, 1, 1,\n",
       "       1, 1, 1, 1, 1, 1, 1, 1, 1, 1, 1, 1, 1, 1, 1, 1, 1, 1, 1, 1, 1, 1,\n",
       "       1, 1, 1, 1, 1, 1, 1, 1, 1, 1, 1, 1, 2, 2, 2, 2, 2, 2, 2, 2, 2, 2,\n",
       "       2, 2, 2, 2, 2, 2, 2, 2, 2, 2, 2, 2, 2, 2, 2, 2, 2, 2, 2, 2, 2, 2,\n",
       "       2, 2, 2, 2, 2, 2, 2, 2, 2, 2, 2, 2, 2, 2, 2, 2, 2, 2])"
      ]
     },
     "execution_count": 55,
     "metadata": {},
     "output_type": "execute_result"
    }
   ],
   "source": [
    "#0--->setosa', 1------->'versicolor', '2----->virginica'\n",
    "label"
   ]
  },
  {
   "cell_type": "code",
   "execution_count": 56,
   "metadata": {},
   "outputs": [],
   "source": [
    "#Step-1\n",
    "data_meaned = data - np.mean(data , axis = 0)"
   ]
  },
  {
   "cell_type": "code",
   "execution_count": 57,
   "metadata": {},
   "outputs": [
    {
     "data": {
      "text/plain": [
       "array([-1.12502600e-15, -7.60872846e-16, -2.55203266e-15, -4.48530102e-16])"
      ]
     },
     "execution_count": 57,
     "metadata": {},
     "output_type": "execute_result"
    }
   ],
   "source": [
    "np.mean(data_meaned , axis = 0)"
   ]
  },
  {
   "cell_type": "code",
   "execution_count": 60,
   "metadata": {},
   "outputs": [],
   "source": [
    "#Step-2\n",
    "covariance_matrix  = np.cov(data_meaned , rowvar = False)"
   ]
  },
  {
   "cell_type": "code",
   "execution_count": 61,
   "metadata": {},
   "outputs": [
    {
     "data": {
      "text/plain": [
       "array([[ 0.68569351, -0.042434  ,  1.27431544,  0.51627069],\n",
       "       [-0.042434  ,  0.18997942, -0.32965638, -0.12163937],\n",
       "       [ 1.27431544, -0.32965638,  3.11627785,  1.2956094 ],\n",
       "       [ 0.51627069, -0.12163937,  1.2956094 ,  0.58100626]])"
      ]
     },
     "execution_count": 61,
     "metadata": {},
     "output_type": "execute_result"
    }
   ],
   "source": [
    "covariance_matrix"
   ]
  },
  {
   "cell_type": "code",
   "execution_count": 64,
   "metadata": {},
   "outputs": [],
   "source": [
    "#Step-3\n",
    "eigen_values , eigen_vectors = np.linalg.eigh(covariance_matrix)"
   ]
  },
  {
   "cell_type": "code",
   "execution_count": 65,
   "metadata": {},
   "outputs": [
    {
     "data": {
      "text/plain": [
       "array([0.02383509, 0.0782095 , 0.24267075, 4.22824171])"
      ]
     },
     "execution_count": 65,
     "metadata": {},
     "output_type": "execute_result"
    }
   ],
   "source": [
    "eigen_values"
   ]
  },
  {
   "cell_type": "code",
   "execution_count": 66,
   "metadata": {},
   "outputs": [
    {
     "data": {
      "text/plain": [
       "array([[ 0.31548719,  0.58202985,  0.65658877, -0.36138659],\n",
       "       [-0.3197231 , -0.59791083,  0.73016143,  0.08452251],\n",
       "       [-0.47983899, -0.07623608, -0.17337266, -0.85667061],\n",
       "       [ 0.75365743, -0.54583143, -0.07548102, -0.3582892 ]])"
      ]
     },
     "execution_count": 66,
     "metadata": {},
     "output_type": "execute_result"
    }
   ],
   "source": [
    "eigen_vectors"
   ]
  },
  {
   "cell_type": "code",
   "execution_count": 67,
   "metadata": {},
   "outputs": [],
   "source": [
    "#Step-4\n",
    "sorted_index = np.argsort(eigen_values)[::-1]\n",
    "sorted_eigenvalue = eigen_values[sorted_index]\n",
    "sorted_eigenvectors = eigen_vectors[:,sorted_index]"
   ]
  },
  {
   "cell_type": "code",
   "execution_count": 68,
   "metadata": {},
   "outputs": [
    {
     "data": {
      "text/plain": [
       "array([3, 2, 1, 0])"
      ]
     },
     "execution_count": 68,
     "metadata": {},
     "output_type": "execute_result"
    }
   ],
   "source": [
    "sorted_index"
   ]
  },
  {
   "cell_type": "code",
   "execution_count": 69,
   "metadata": {},
   "outputs": [
    {
     "data": {
      "text/plain": [
       "array([4.22824171, 0.24267075, 0.0782095 , 0.02383509])"
      ]
     },
     "execution_count": 69,
     "metadata": {},
     "output_type": "execute_result"
    }
   ],
   "source": [
    "sorted_eigenvalue"
   ]
  },
  {
   "cell_type": "code",
   "execution_count": 70,
   "metadata": {},
   "outputs": [
    {
     "data": {
      "text/plain": [
       "array([[-0.36138659,  0.65658877,  0.58202985,  0.31548719],\n",
       "       [ 0.08452251,  0.73016143, -0.59791083, -0.3197231 ],\n",
       "       [-0.85667061, -0.17337266, -0.07623608, -0.47983899],\n",
       "       [-0.3582892 , -0.07548102, -0.54583143,  0.75365743]])"
      ]
     },
     "execution_count": 70,
     "metadata": {},
     "output_type": "execute_result"
    }
   ],
   "source": [
    "sorted_eigenvectors"
   ]
  },
  {
   "cell_type": "code",
   "execution_count": 72,
   "metadata": {},
   "outputs": [],
   "source": [
    "#Step-5\n",
    "n_components = 2\n",
    "p_components_req = sorted_eigenvectors[:,0:n_components]"
   ]
  },
  {
   "cell_type": "code",
   "execution_count": 73,
   "metadata": {},
   "outputs": [
    {
     "data": {
      "text/plain": [
       "0.9776852063187947"
      ]
     },
     "execution_count": 73,
     "metadata": {},
     "output_type": "execute_result"
    }
   ],
   "source": [
    "#Explained Variance\n",
    "sum(sorted_eigenvalue[:n_components])/sum(sorted_eigenvalue)"
   ]
  },
  {
   "cell_type": "code",
   "execution_count": 74,
   "metadata": {},
   "outputs": [
    {
     "data": {
      "text/plain": [
       "array([[-0.36138659,  0.65658877],\n",
       "       [ 0.08452251,  0.73016143],\n",
       "       [-0.85667061, -0.17337266],\n",
       "       [-0.3582892 , -0.07548102]])"
      ]
     },
     "execution_count": 74,
     "metadata": {},
     "output_type": "execute_result"
    }
   ],
   "source": [
    "p_components_req"
   ]
  },
  {
   "cell_type": "code",
   "execution_count": 75,
   "metadata": {},
   "outputs": [],
   "source": [
    "#Step-6\n",
    "projected_data = np.dot(p_components_req.transpose() , data_meaned.transpose() ).transpose()"
   ]
  },
  {
   "cell_type": "code",
   "execution_count": 76,
   "metadata": {},
   "outputs": [
    {
     "data": {
      "text/plain": [
       "array([[ 2.68412563,  0.31939725],\n",
       "       [ 2.71414169, -0.17700123],\n",
       "       [ 2.88899057, -0.14494943],\n",
       "       [ 2.74534286, -0.31829898],\n",
       "       [ 2.72871654,  0.32675451],\n",
       "       [ 2.28085963,  0.74133045],\n",
       "       [ 2.82053775, -0.08946138],\n",
       "       [ 2.62614497,  0.16338496],\n",
       "       [ 2.88638273, -0.57831175],\n",
       "       [ 2.6727558 , -0.11377425],\n",
       "       [ 2.50694709,  0.6450689 ],\n",
       "       [ 2.61275523,  0.01472994],\n",
       "       [ 2.78610927, -0.235112  ],\n",
       "       [ 3.22380374, -0.51139459],\n",
       "       [ 2.64475039,  1.17876464],\n",
       "       [ 2.38603903,  1.33806233],\n",
       "       [ 2.62352788,  0.81067951],\n",
       "       [ 2.64829671,  0.31184914],\n",
       "       [ 2.19982032,  0.87283904],\n",
       "       [ 2.5879864 ,  0.51356031],\n",
       "       [ 2.31025622,  0.39134594],\n",
       "       [ 2.54370523,  0.43299606],\n",
       "       [ 3.21593942,  0.13346807],\n",
       "       [ 2.30273318,  0.09870885],\n",
       "       [ 2.35575405, -0.03728186],\n",
       "       [ 2.50666891, -0.14601688],\n",
       "       [ 2.46882007,  0.13095149],\n",
       "       [ 2.56231991,  0.36771886],\n",
       "       [ 2.63953472,  0.31203998],\n",
       "       [ 2.63198939, -0.19696122],\n",
       "       [ 2.58739848, -0.20431849],\n",
       "       [ 2.4099325 ,  0.41092426],\n",
       "       [ 2.64886233,  0.81336382],\n",
       "       [ 2.59873675,  1.09314576],\n",
       "       [ 2.63692688, -0.12132235],\n",
       "       [ 2.86624165,  0.06936447],\n",
       "       [ 2.62523805,  0.59937002],\n",
       "       [ 2.80068412,  0.26864374],\n",
       "       [ 2.98050204, -0.48795834],\n",
       "       [ 2.59000631,  0.22904384],\n",
       "       [ 2.77010243,  0.26352753],\n",
       "       [ 2.84936871, -0.94096057],\n",
       "       [ 2.99740655, -0.34192606],\n",
       "       [ 2.40561449,  0.18887143],\n",
       "       [ 2.20948924,  0.43666314],\n",
       "       [ 2.71445143, -0.2502082 ],\n",
       "       [ 2.53814826,  0.50377114],\n",
       "       [ 2.83946217, -0.22794557],\n",
       "       [ 2.54308575,  0.57941002],\n",
       "       [ 2.70335978,  0.10770608],\n",
       "       [-1.28482569,  0.68516047],\n",
       "       [-0.93248853,  0.31833364],\n",
       "       [-1.46430232,  0.50426282],\n",
       "       [-0.18331772, -0.82795901],\n",
       "       [-1.08810326,  0.07459068],\n",
       "       [-0.64166908, -0.41824687],\n",
       "       [-1.09506066,  0.28346827],\n",
       "       [ 0.74912267, -1.00489096],\n",
       "       [-1.04413183,  0.2283619 ],\n",
       "       [ 0.0087454 , -0.72308191],\n",
       "       [ 0.50784088, -1.26597119],\n",
       "       [-0.51169856, -0.10398124],\n",
       "       [-0.26497651, -0.55003646],\n",
       "       [-0.98493451, -0.12481785],\n",
       "       [ 0.17392537, -0.25485421],\n",
       "       [-0.92786078,  0.46717949],\n",
       "       [-0.66028376, -0.35296967],\n",
       "       [-0.23610499, -0.33361077],\n",
       "       [-0.94473373, -0.54314555],\n",
       "       [-0.04522698, -0.58383438],\n",
       "       [-1.11628318, -0.08461685],\n",
       "       [-0.35788842, -0.06892503],\n",
       "       [-1.29818388, -0.32778731],\n",
       "       [-0.92172892, -0.18273779],\n",
       "       [-0.71485333,  0.14905594],\n",
       "       [-0.90017437,  0.32850447],\n",
       "       [-1.33202444,  0.24444088],\n",
       "       [-1.55780216,  0.26749545],\n",
       "       [-0.81329065, -0.1633503 ],\n",
       "       [ 0.30558378, -0.36826219],\n",
       "       [ 0.06812649, -0.70517213],\n",
       "       [ 0.18962247, -0.68028676],\n",
       "       [-0.13642871, -0.31403244],\n",
       "       [-1.38002644, -0.42095429],\n",
       "       [-0.58800644, -0.48428742],\n",
       "       [-0.80685831,  0.19418231],\n",
       "       [-1.22069088,  0.40761959],\n",
       "       [-0.81509524, -0.37203706],\n",
       "       [-0.24595768, -0.2685244 ],\n",
       "       [-0.16641322, -0.68192672],\n",
       "       [-0.46480029, -0.67071154],\n",
       "       [-0.8908152 , -0.03446444],\n",
       "       [-0.23054802, -0.40438585],\n",
       "       [ 0.70453176, -1.01224823],\n",
       "       [-0.35698149, -0.50491009],\n",
       "       [-0.33193448, -0.21265468],\n",
       "       [-0.37621565, -0.29321893],\n",
       "       [-0.64257601,  0.01773819],\n",
       "       [ 0.90646986, -0.75609337],\n",
       "       [-0.29900084, -0.34889781],\n",
       "       [-2.53119273, -0.00984911],\n",
       "       [-1.41523588, -0.57491635],\n",
       "       [-2.61667602,  0.34390315],\n",
       "       [-1.97153105, -0.1797279 ],\n",
       "       [-2.35000592, -0.04026095],\n",
       "       [-3.39703874,  0.55083667],\n",
       "       [-0.52123224, -1.19275873],\n",
       "       [-2.93258707,  0.3555    ],\n",
       "       [-2.32122882, -0.2438315 ],\n",
       "       [-2.91675097,  0.78279195],\n",
       "       [-1.66177415,  0.24222841],\n",
       "       [-1.80340195, -0.21563762],\n",
       "       [-2.1655918 ,  0.21627559],\n",
       "       [-1.34616358, -0.77681835],\n",
       "       [-1.58592822, -0.53964071],\n",
       "       [-1.90445637,  0.11925069],\n",
       "       [-1.94968906,  0.04194326],\n",
       "       [-3.48705536,  1.17573933],\n",
       "       [-3.79564542,  0.25732297],\n",
       "       [-1.30079171, -0.76114964],\n",
       "       [-2.42781791,  0.37819601],\n",
       "       [-1.19900111, -0.60609153],\n",
       "       [-3.49992004,  0.4606741 ],\n",
       "       [-1.38876613, -0.20439933],\n",
       "       [-2.2754305 ,  0.33499061],\n",
       "       [-2.61409047,  0.56090136],\n",
       "       [-1.25850816, -0.17970479],\n",
       "       [-1.29113206, -0.11666865],\n",
       "       [-2.12360872, -0.20972948],\n",
       "       [-2.38800302,  0.4646398 ],\n",
       "       [-2.84167278,  0.37526917],\n",
       "       [-3.23067366,  1.37416509],\n",
       "       [-2.15943764, -0.21727758],\n",
       "       [-1.44416124, -0.14341341],\n",
       "       [-1.78129481, -0.49990168],\n",
       "       [-3.07649993,  0.68808568],\n",
       "       [-2.14424331,  0.1400642 ],\n",
       "       [-1.90509815,  0.04930053],\n",
       "       [-1.16932634, -0.16499026],\n",
       "       [-2.10761114,  0.37228787],\n",
       "       [-2.31415471,  0.18365128],\n",
       "       [-1.9222678 ,  0.40920347],\n",
       "       [-1.41523588, -0.57491635],\n",
       "       [-2.56301338,  0.2778626 ],\n",
       "       [-2.41874618,  0.3047982 ],\n",
       "       [-1.94410979,  0.1875323 ],\n",
       "       [-1.52716661, -0.37531698],\n",
       "       [-1.76434572,  0.07885885],\n",
       "       [-1.90094161,  0.11662796],\n",
       "       [-1.39018886, -0.28266094]])"
      ]
     },
     "execution_count": 76,
     "metadata": {},
     "output_type": "execute_result"
    }
   ],
   "source": [
    "projected_data"
   ]
  },
  {
   "cell_type": "code",
   "execution_count": 77,
   "metadata": {},
   "outputs": [
    {
     "data": {
      "text/html": [
       "<div>\n",
       "<style scoped>\n",
       "    .dataframe tbody tr th:only-of-type {\n",
       "        vertical-align: middle;\n",
       "    }\n",
       "\n",
       "    .dataframe tbody tr th {\n",
       "        vertical-align: top;\n",
       "    }\n",
       "\n",
       "    .dataframe thead th {\n",
       "        text-align: right;\n",
       "    }\n",
       "</style>\n",
       "<table border=\"1\" class=\"dataframe\">\n",
       "  <thead>\n",
       "    <tr style=\"text-align: right;\">\n",
       "      <th></th>\n",
       "      <th>Component1</th>\n",
       "      <th>Component2</th>\n",
       "      <th>label</th>\n",
       "    </tr>\n",
       "  </thead>\n",
       "  <tbody>\n",
       "    <tr>\n",
       "      <th>0</th>\n",
       "      <td>2.684126</td>\n",
       "      <td>0.319397</td>\n",
       "      <td>0</td>\n",
       "    </tr>\n",
       "    <tr>\n",
       "      <th>1</th>\n",
       "      <td>2.714142</td>\n",
       "      <td>-0.177001</td>\n",
       "      <td>0</td>\n",
       "    </tr>\n",
       "    <tr>\n",
       "      <th>2</th>\n",
       "      <td>2.888991</td>\n",
       "      <td>-0.144949</td>\n",
       "      <td>0</td>\n",
       "    </tr>\n",
       "    <tr>\n",
       "      <th>3</th>\n",
       "      <td>2.745343</td>\n",
       "      <td>-0.318299</td>\n",
       "      <td>0</td>\n",
       "    </tr>\n",
       "    <tr>\n",
       "      <th>4</th>\n",
       "      <td>2.728717</td>\n",
       "      <td>0.326755</td>\n",
       "      <td>0</td>\n",
       "    </tr>\n",
       "    <tr>\n",
       "      <th>...</th>\n",
       "      <td>...</td>\n",
       "      <td>...</td>\n",
       "      <td>...</td>\n",
       "    </tr>\n",
       "    <tr>\n",
       "      <th>145</th>\n",
       "      <td>-1.944110</td>\n",
       "      <td>0.187532</td>\n",
       "      <td>2</td>\n",
       "    </tr>\n",
       "    <tr>\n",
       "      <th>146</th>\n",
       "      <td>-1.527167</td>\n",
       "      <td>-0.375317</td>\n",
       "      <td>2</td>\n",
       "    </tr>\n",
       "    <tr>\n",
       "      <th>147</th>\n",
       "      <td>-1.764346</td>\n",
       "      <td>0.078859</td>\n",
       "      <td>2</td>\n",
       "    </tr>\n",
       "    <tr>\n",
       "      <th>148</th>\n",
       "      <td>-1.900942</td>\n",
       "      <td>0.116628</td>\n",
       "      <td>2</td>\n",
       "    </tr>\n",
       "    <tr>\n",
       "      <th>149</th>\n",
       "      <td>-1.390189</td>\n",
       "      <td>-0.282661</td>\n",
       "      <td>2</td>\n",
       "    </tr>\n",
       "  </tbody>\n",
       "</table>\n",
       "<p>150 rows × 3 columns</p>\n",
       "</div>"
      ],
      "text/plain": [
       "     Component1  Component2  label\n",
       "0      2.684126    0.319397      0\n",
       "1      2.714142   -0.177001      0\n",
       "2      2.888991   -0.144949      0\n",
       "3      2.745343   -0.318299      0\n",
       "4      2.728717    0.326755      0\n",
       "..          ...         ...    ...\n",
       "145   -1.944110    0.187532      2\n",
       "146   -1.527167   -0.375317      2\n",
       "147   -1.764346    0.078859      2\n",
       "148   -1.900942    0.116628      2\n",
       "149   -1.390189   -0.282661      2\n",
       "\n",
       "[150 rows x 3 columns]"
      ]
     },
     "execution_count": 77,
     "metadata": {},
     "output_type": "execute_result"
    }
   ],
   "source": [
    "#Downstreamed dataset\n",
    "final_df = pd.DataFrame(projected_data, columns = ['Component1','Component2'])\n",
    "final_df = pd.concat([final_df , pd.DataFrame(label , columns = ['label'])] , axis = 1)\n",
    "final_df"
   ]
  },
  {
   "cell_type": "code",
   "execution_count": 78,
   "metadata": {},
   "outputs": [
    {
     "data": {
      "text/plain": [
       "<AxesSubplot:xlabel='Component1', ylabel='Component2'>"
      ]
     },
     "execution_count": 78,
     "metadata": {},
     "output_type": "execute_result"
    },
    {
     "data": {
      "image/png": "[encoded data removed]",
      "text/plain": [
       "<Figure size 504x504 with 1 Axes>"
      ]
     },
     "metadata": {
      "needs_background": "light"
     },
     "output_type": "display_data"
    }
   ],
   "source": [
    "#Visualizzation\n",
    "plt.figure(figsize = (7,7))\n",
    "plt.grid()\n",
    "sb.scatterplot(data = final_df , x = 'Component1',y = 'Component2' , hue = 'label' , s = 100 , palette= 'Accent')\n"
   ]
  },
  {
   "cell_type": "markdown",
   "metadata": {},
   "source": [
    "### Kernel PCA"
   ]
  },
  {
   "cell_type": "code",
   "execution_count": 79,
   "metadata": {},
   "outputs": [],
   "source": [
    "from sklearn.datasets import make_moons\n",
    "from scipy.spatial.distance import pdist, squareform"
   ]
  },
  {
   "cell_type": "code",
   "execution_count": 80,
   "metadata": {},
   "outputs": [
    {
     "data": {
      "image/png": "[encoded data removed]",
      "text/plain": [
       "<Figure size 432x288 with 1 Axes>"
      ]
     },
     "metadata": {
      "needs_background": "light"
     },
     "output_type": "display_data"
    }
   ],
   "source": [
    "X, y = make_moons(n_samples=100, random_state=123)\n",
    "plt.scatter(X[y==0, 0], X[y==0, 1],color='red', marker='^', alpha=0.5)\n",
    "plt.scatter(X[y==1, 0], X[y==1, 1],color='blue', marker='o', alpha=0.5)\n",
    "plt.tight_layout()"
   ]
  },
  {
   "cell_type": "code",
   "execution_count": 82,
   "metadata": {},
   "outputs": [
    {
     "data": {
      "text/plain": [
       "array([[ 8.71318704e-01,  4.90717552e-01],\n",
       "       [ 7.15472413e-01, -4.58667853e-01],\n",
       "       [ 1.46253829e+00, -3.86599306e-01],\n",
       "       [-2.22520934e-01,  9.74927912e-01],\n",
       "       [ 3.27699110e-01, -2.40277997e-01],\n",
       "       [ 1.00000000e+00,  0.00000000e+00],\n",
       "       [ 9.49055747e-01,  3.15108218e-01],\n",
       "       [ 0.00000000e+00,  5.00000000e-01],\n",
       "       [ 1.40478334e+00, -4.14412623e-01],\n",
       "       [ 9.67294863e-01,  2.53654584e-01],\n",
       "       [ 9.60230259e-02,  9.95379113e-01],\n",
       "       [ 4.27883340e-01, -3.20172255e-01],\n",
       "       [ 1.09602303e+00, -4.95379113e-01],\n",
       "       [ 1.98586378e-01, -9.81105305e-02],\n",
       "       [ 3.20515776e-02,  9.99486216e-01],\n",
       "       [-9.00968868e-01,  4.33883739e-01],\n",
       "       [ 1.15959990e+00, -4.87181783e-01],\n",
       "       [-7.61445958e-01,  6.48228395e-01],\n",
       "       [ 7.30832427e-02,  1.24732995e-01],\n",
       "       [ 1.03205158e+00, -4.99486216e-01],\n",
       "       [-6.23489802e-01,  7.81831482e-01],\n",
       "       [ 1.76144596e+00, -1.48228395e-01],\n",
       "       [ 3.45365054e-01,  9.38468422e-01],\n",
       "       [-2.84527587e-01,  9.58667853e-01],\n",
       "       [-4.04783343e-01,  9.14412623e-01],\n",
       "       [ 1.87131870e+00,  9.28244800e-03],\n",
       "       [ 1.62348980e+00, -2.81831482e-01],\n",
       "       [ 8.38088105e-01,  5.45534901e-01],\n",
       "       [ 1.84408430e-02,  3.08841371e-01],\n",
       "       [-8.71318704e-01,  4.90717552e-01],\n",
       "       [ 2.22520934e-01,  9.74927912e-01],\n",
       "       [ 1.83808810e+00, -4.55349012e-02],\n",
       "       [-5.18392568e-01,  8.55142763e-01],\n",
       "       [ 6.54634946e-01, -4.38468422e-01],\n",
       "       [ 1.57211666e+00, -3.20172255e-01],\n",
       "       [ 1.71834935e+00, -1.95682551e-01],\n",
       "       [ 1.96729486e+00,  2.46345416e-01],\n",
       "       [ 1.99179001e+00,  3.72122838e-01],\n",
       "       [ 2.81650650e-01, -1.95682551e-01],\n",
       "       [ 7.18349350e-01,  6.95682551e-01],\n",
       "       [ 2.84527587e-01,  9.58667853e-01],\n",
       "       [ 1.80141362e+00, -9.81105305e-02],\n",
       "       [-7.18349350e-01,  6.95682551e-01],\n",
       "       [ 1.61911895e-01, -4.55349012e-02],\n",
       "       [ 9.97945393e-01,  6.40702200e-02],\n",
       "       [ 9.67948422e-01, -4.99486216e-01],\n",
       "       [ 7.61445958e-01,  6.48228395e-01],\n",
       "       [ 1.28452759e+00, -4.58667853e-01],\n",
       "       [ 6.23489802e-01,  7.81831482e-01],\n",
       "       [ 3.27051370e-02,  2.46345416e-01],\n",
       "       [ 5.18392568e-01,  8.55142763e-01],\n",
       "       [-9.60230259e-02,  9.95379113e-01],\n",
       "       [ 2.05460725e-03,  4.35929780e-01],\n",
       "       [-9.67294863e-01,  2.53654584e-01],\n",
       "       [ 9.26916757e-01,  3.75267005e-01],\n",
       "       [ 1.99794539e+00,  4.35929780e-01],\n",
       "       [-3.45365054e-01,  9.38468422e-01],\n",
       "       [-9.49055747e-01,  3.15108218e-01],\n",
       "       [ 8.40400105e-01, -4.87181783e-01],\n",
       "       [-9.26916757e-01,  3.75267005e-01],\n",
       "       [ 5.72116660e-01,  8.20172255e-01],\n",
       "       [ 1.94905575e+00,  1.84891782e-01],\n",
       "       [ 4.04783343e-01,  9.14412623e-01],\n",
       "       [ 6.72300890e-01,  7.40277997e-01],\n",
       "       [ 1.59599895e-01,  9.87181783e-01],\n",
       "       [ 8.01413622e-01,  5.98110530e-01],\n",
       "       [ 1.28681296e-01,  9.28244800e-03],\n",
       "       [ 7.77479066e-01, -4.74927912e-01],\n",
       "       [ 3.76510198e-01, -2.81831482e-01],\n",
       "       [ 9.81559157e-01,  1.91158629e-01],\n",
       "       [-8.38088105e-01,  5.45534901e-01],\n",
       "       [-5.72116660e-01,  8.20172255e-01],\n",
       "       [-1.59599895e-01,  9.87181783e-01],\n",
       "       [ 8.20998618e-03,  3.72122838e-01],\n",
       "       [ 9.00968868e-01,  4.33883739e-01],\n",
       "       [-9.97945393e-01,  6.40702200e-02],\n",
       "       [ 2.38554042e-01, -1.48228395e-01],\n",
       "       [ 1.92691676e+00,  1.24732995e-01],\n",
       "       [ 2.00000000e+00,  5.00000000e-01],\n",
       "       [-8.01413622e-01,  5.98110530e-01],\n",
       "       [ 9.91790014e-01,  1.27877162e-01],\n",
       "       [ 5.37461710e-01, -3.86599306e-01],\n",
       "       [ 5.09442530e-02,  1.84891782e-01],\n",
       "       [-1.00000000e+00,  1.22464680e-16],\n",
       "       [ 5.95216657e-01, -4.14412623e-01],\n",
       "       [ 1.34536505e+00, -4.38468422e-01],\n",
       "       [-6.72300890e-01,  7.40277997e-01],\n",
       "       [ 1.22252093e+00, -4.74927912e-01],\n",
       "       [ 1.98155916e+00,  3.08841371e-01],\n",
       "       [-3.20515776e-02,  9.99486216e-01],\n",
       "       [-9.81559157e-01,  1.91158629e-01],\n",
       "       [-4.62538290e-01,  8.86599306e-01],\n",
       "       [ 9.03976974e-01, -4.95379113e-01],\n",
       "       [-9.91790014e-01,  1.27877162e-01],\n",
       "       [ 1.67230089e+00, -2.40277997e-01],\n",
       "       [ 9.90311321e-02,  6.61162609e-02],\n",
       "       [ 1.51839257e+00, -3.55142763e-01],\n",
       "       [ 4.62538290e-01,  8.86599306e-01],\n",
       "       [ 1.90096887e+00,  6.61162609e-02],\n",
       "       [ 4.81607432e-01, -3.55142763e-01]])"
      ]
     },
     "execution_count": 82,
     "metadata": {},
     "output_type": "execute_result"
    }
   ],
   "source": [
    "X"
   ]
  },
  {
   "cell_type": "code",
   "execution_count": 81,
   "metadata": {},
   "outputs": [
    {
     "data": {
      "text/plain": [
       "<AxesSubplot:xlabel='Component1', ylabel='Component2'>"
      ]
     },
     "execution_count": 81,
     "metadata": {},
     "output_type": "execute_result"
    },
    {
     "data": {
      "image/png": "[encoded data removed]",
      "text/plain": [
       "<Figure size 504x504 with 1 Axes>"
      ]
     },
     "metadata": {
      "needs_background": "light"
     },
     "output_type": "display_data"
    }
   ],
   "source": [
    "#Normal PCA on this dataset\n",
    "#Step 1\n",
    "X_meaned = X - np.mean(X , axis = 0)\n",
    "#Step 2\n",
    "covariance_matrix  = np.cov(X_meaned, rowvar = False)\n",
    "#Step 3\n",
    "eigen_values , eigen_vectors = np.linalg.eigh(covariance_matrix)\n",
    "#Step-4\n",
    "sorted_index = np.argsort(eigen_values)[::-1]\n",
    "sorted_eigenvalue = eigen_values[sorted_index]\n",
    "sorted_eigenvectors = eigen_vectors[:,sorted_index]\n",
    "#Step-5\n",
    "n_components = 2\n",
    "p_components_req = sorted_eigenvectors[:,0:n_components]\n",
    "#Step-6\n",
    "projected_data = np.dot(p_components_req.transpose() ,X_meaned.transpose() ).transpose()\n",
    "#Downstreamed dataset\n",
    "final_df = pd.DataFrame(projected_data, columns = ['Component1','Component2'])\n",
    "final_df = pd.concat([final_df , pd.DataFrame(y, columns = ['label'])] , axis = 1)\n",
    "#Visualizzation\n",
    "plt.figure(figsize = (7,7))\n",
    "plt.grid()\n",
    "sb.scatterplot(data = final_df , x = 'Component1',y = 'Component2' , hue = 'label' , s = 100 , palette= 'Accent')\n"
   ]
  },
  {
   "cell_type": "code",
   "execution_count": 26,
   "metadata": {},
   "outputs": [
    {
     "data": {
      "text/plain": [
       "array([[0.        , 0.92562071, 1.11922547, ..., 0.32382379, 1.24046572,\n",
       "        0.86735455],\n",
       "       [0.92562071, 0.        , 0.5633013 , ..., 1.8737194 , 1.68080021,\n",
       "        0.06541027],\n",
       "       [1.11922547, 0.5633013 , 0.        , ..., 2.62103471, 0.39717276,\n",
       "        0.96321486],\n",
       "       ...,\n",
       "       [0.32382379, 1.8737194 , 2.62103471, ..., 0.        , 2.74227495,\n",
       "        1.542287  ],\n",
       "       [1.24046572, 1.68080021, 0.39717276, ..., 2.74227495, 0.        ,\n",
       "        2.19204605],\n",
       "       [0.86735455, 0.06541027, 0.96321486, ..., 1.542287  , 2.19204605,\n",
       "        0.        ]])"
      ]
     },
     "execution_count": 26,
     "metadata": {},
     "output_type": "execute_result"
    }
   ],
   "source": [
    "euclidean_distance = pdist(X, 'sqeuclidean')#computes pairwise euclidean distance betwwen the vectors\n",
    "distance_matrix= squareform(euclidean_distance)\n",
    "distance_matrix\n"
   ]
  },
  {
   "cell_type": "code",
   "execution_count": 27,
   "metadata": {},
   "outputs": [
    {
     "data": {
      "text/plain": [
       "array([[1.00000000e+00, 9.33513227e-07, 5.11562054e-08, ...,\n",
       "        7.77099665e-03, 8.30020401e-09, 2.23712673e-06],\n",
       "       [9.33513227e-07, 1.00000000e+00, 2.14003220e-04, ...,\n",
       "        6.22028171e-13, 1.12348209e-11, 3.74878199e-01],\n",
       "       [5.11562054e-08, 2.14003220e-04, 1.00000000e+00, ...,\n",
       "        8.42337906e-18, 2.58613358e-03, 5.31149160e-07],\n",
       "       ...,\n",
       "       [7.77099665e-03, 6.22028171e-13, 8.42337906e-18, ...,\n",
       "        1.00000000e+00, 1.36671131e-18, 8.97220116e-11],\n",
       "       [8.30020401e-09, 1.12348209e-11, 2.58613358e-03, ...,\n",
       "        1.36671131e-18, 1.00000000e+00, 5.24925214e-15],\n",
       "       [2.23712673e-06, 3.74878199e-01, 5.31149160e-07, ...,\n",
       "        8.97220116e-11, 5.24925214e-15, 1.00000000e+00]])"
      ]
     },
     "execution_count": 27,
     "metadata": {},
     "output_type": "execute_result"
    }
   ],
   "source": [
    "#Kernel Matrix K\n",
    "gamma = 15\n",
    "K = np.exp(-gamma * distance_matrix)  \n",
    "K"
   ]
  },
  {
   "cell_type": "code",
   "execution_count": 83,
   "metadata": {},
   "outputs": [],
   "source": [
    "#Centering the kernel matrix\n",
    "N = K.shape[0] # number of samples\n",
    "ones = np.ones((N,N)) / N\n",
    "K = K - ones @ K - K @ ones + ones @ K @ ones"
   ]
  },
  {
   "cell_type": "code",
   "execution_count": 84,
   "metadata": {},
   "outputs": [],
   "source": [
    "#Calculate eigenvalues and eigenvectors of kernel matrix\n",
    "n_components = 2\n",
    "eigenvals, eigenvecs = LA.eigh(K)\n",
    "eigenvals, eigenvecs = eigenvals[::-1], eigenvecs[:, ::-1]    \n",
    "# Collect the top k eigenvectors (projected examples)\n",
    "principal_components= np.column_stack([eigenvecs[:, i] for i in range(n_components)])"
   ]
  },
  {
   "cell_type": "code",
   "execution_count": 88,
   "metadata": {},
   "outputs": [
    {
     "data": {
      "text/plain": [
       "array([[ 0.07455287, -0.12640964,  0.12970363, ...,  0.0257255 ,\n",
       "         0.        ,  0.10006582],\n",
       "       [-0.13184362, -0.07057103, -0.07045489, ..., -0.00290735,\n",
       "         0.2254944 ,  0.10073691],\n",
       "       [-0.12522054,  0.10492692,  0.10371965, ..., -0.00230537,\n",
       "         0.17952065,  0.10069615],\n",
       "       ...,\n",
       "       [ 0.12300381, -0.10627606,  0.10750402, ..., -0.18004078,\n",
       "        -0.00263588,  0.09964048],\n",
       "       [-0.07190802,  0.12204704,  0.11879925, ..., -0.00033283,\n",
       "         0.01630805,  0.10008998],\n",
       "       [-0.11916726, -0.1154592 , -0.11712043, ..., -0.00216484,\n",
       "         0.16112796,  0.10045108]])"
      ]
     },
     "execution_count": 88,
     "metadata": {},
     "output_type": "execute_result"
    }
   ],
   "source": [
    "eigenvecs"
   ]
  },
  {
   "cell_type": "code",
   "execution_count": 89,
   "metadata": {},
   "outputs": [],
   "source": [
    "#Normalization\n",
    "principal_components = principal_components / np.sqrt(eigenvals[:n_components] *N)"
   ]
  },
  {
   "cell_type": "code",
   "execution_count": 91,
   "metadata": {},
   "outputs": [],
   "source": [
    "#Project the data onto top 2 eigenvectors\n",
    "projected_data = np.dot(K , principal_components )"
   ]
  },
  {
   "cell_type": "code",
   "execution_count": 92,
   "metadata": {},
   "outputs": [
    {
     "data": {
      "text/plain": [
       "array([[ 0.01981301, -0.0328935 ],\n",
       "       [-0.03503848, -0.01836354],\n",
       "       [-0.03327834,  0.02730341],\n",
       "       [ 0.03586183,  0.01378748],\n",
       "       [-0.02794711, -0.03464612],\n",
       "       [ 0.00323127, -0.00999266],\n",
       "       [ 0.01402958, -0.02639335],\n",
       "       [-0.00323127, -0.00999266],\n",
       "       [-0.03410793,  0.02438449],\n",
       "       [ 0.01199757, -0.02346027],\n",
       "       [ 0.0362846 , -0.00678576],\n",
       "       [-0.03053679, -0.03202267],\n",
       "       [-0.03640719,  0.00570814],\n",
       "       [-0.02332378, -0.0350275 ],\n",
       "       [ 0.0364507 , -0.00264904],\n",
       "       [ 0.01911012,  0.0317583 ],\n",
       "       [-0.03619725,  0.00981191],\n",
       "       [ 0.02593032,  0.03578969],\n",
       "       [-0.01601655, -0.02896758],\n",
       "       [-0.03649162,  0.00153489],\n",
       "       [ 0.03008931,  0.03364023],\n",
       "       [-0.02593032,  0.03578969],\n",
       "       [ 0.03437606, -0.0217753 ],\n",
       "       [ 0.03540124,  0.01757744],\n",
       "       [ 0.03410793,  0.02438449],\n",
       "       [-0.0209345 ,  0.03348399],\n",
       "       [-0.03008931,  0.03364023],\n",
       "       [ 0.0216073 , -0.03419385],\n",
       "       [-0.00993299, -0.02022895],\n",
       "       [ 0.0209345 ,  0.03348399],\n",
       "       [ 0.03557799, -0.01469546],\n",
       "       [-0.02268331,  0.03474126],\n",
       "       [ 0.03232991,  0.02984196],\n",
       "       [-0.03437606, -0.0217753 ],\n",
       "       [-0.03126569,  0.0319642 ],\n",
       "       [-0.02741687,  0.03556641],\n",
       "       [-0.01324572,  0.02402938],\n",
       "       [-0.00914628,  0.01724753],\n",
       "       [-0.02649936, -0.03525532],\n",
       "       [ 0.02649936, -0.03525532],\n",
       "       [ 0.03503848, -0.01836354],\n",
       "       [-0.02435057,  0.03551336],\n",
       "       [ 0.02741687,  0.03556641],\n",
       "       [-0.0216073 , -0.03419385],\n",
       "       [ 0.00565641, -0.01331811],\n",
       "       [-0.0364507 , -0.00264904],\n",
       "       [ 0.02495641, -0.03538299],\n",
       "       [-0.03540124,  0.01757744],\n",
       "       [ 0.02929451, -0.03356366],\n",
       "       [-0.01199757, -0.02346027],\n",
       "       [ 0.03166964, -0.03004405],\n",
       "       [ 0.03640719,  0.00570814],\n",
       "       [-0.00565641, -0.01331811],\n",
       "       [ 0.01324572,  0.02402938],\n",
       "       [ 0.01601655, -0.02896758],\n",
       "       [-0.00715639,  0.01369166],\n",
       "       [ 0.03481618,  0.02112689],\n",
       "       [ 0.01525819,  0.02699704],\n",
       "       [-0.03599357, -0.01081916],\n",
       "       [ 0.01721598,  0.02958648],\n",
       "       [ 0.03053679, -0.03202267],\n",
       "       [-0.01525819,  0.02699704],\n",
       "       [ 0.03359228, -0.02488596],\n",
       "       [ 0.02794711, -0.03464612],\n",
       "       [ 0.03599357, -0.01081916],\n",
       "       [ 0.02332378, -0.0350275 ],\n",
       "       [-0.01981301, -0.0328935 ],\n",
       "       [-0.03557799, -0.01469546],\n",
       "       [-0.02929451, -0.03356366],\n",
       "       [ 0.00993299, -0.02022895],\n",
       "       [ 0.02268331,  0.03474126],\n",
       "       [ 0.03126569,  0.0319642 ],\n",
       "       [ 0.03619725,  0.00981191],\n",
       "       [-0.00783589, -0.01679802],\n",
       "       [ 0.01794716, -0.03114385],\n",
       "       [ 0.00715639,  0.01369166],\n",
       "       [-0.02495641, -0.03538299],\n",
       "       [-0.01721598,  0.02958648],\n",
       "       [-0.00531144,  0.01028292],\n",
       "       [ 0.02435057,  0.03551336],\n",
       "       [ 0.00783589, -0.01679802],\n",
       "       [-0.03268923, -0.02765447],\n",
       "       [-0.01402958, -0.02639335],\n",
       "       [ 0.00531144,  0.01028292],\n",
       "       [-0.03359228, -0.02488596],\n",
       "       [-0.03481618,  0.02112689],\n",
       "       [ 0.02880485,  0.03484658],\n",
       "       [-0.03586183,  0.01378748],\n",
       "       [-0.01119646,  0.0207455 ],\n",
       "       [ 0.03649162,  0.00153489],\n",
       "       [ 0.01119646,  0.0207455 ],\n",
       "       [ 0.03327834,  0.02730341],\n",
       "       [-0.0362846 , -0.00678576],\n",
       "       [ 0.00914628,  0.01724753],\n",
       "       [-0.02880485,  0.03484658],\n",
       "       [-0.01794716, -0.03114385],\n",
       "       [-0.03232991,  0.02984196],\n",
       "       [ 0.03268923, -0.02765447],\n",
       "       [-0.01911012,  0.0317583 ],\n",
       "       [-0.03166964, -0.03004405]])"
      ]
     },
     "execution_count": 92,
     "metadata": {},
     "output_type": "execute_result"
    }
   ],
   "source": [
    "projected_data"
   ]
  },
  {
   "cell_type": "code",
   "execution_count": 93,
   "metadata": {},
   "outputs": [
    {
     "data": {
      "image/png": "[encoded data removed]",
      "text/plain": [
       "<Figure size 576x288 with 2 Axes>"
      ]
     },
     "metadata": {
      "needs_background": "light"
     },
     "output_type": "display_data"
    }
   ],
   "source": [
    "#Visualiation\n",
    "fig, ax = plt.subplots(nrows=1, ncols=2, figsize=(8,4))\n",
    "ax[0].scatter(projected_data[y==0, 0], projected_data[y==0, 1], color='red', marker='^', alpha=0.5)\n",
    "ax[0].scatter(projected_data[y==1, 0], projected_data[y==1, 1], color='blue', marker='o', alpha=0.5)\n",
    "ax[1].scatter(projected_data[y==0, 0], np.zeros((50,1)), color='red', marker='^', alpha=0.5)\n",
    "ax[1].scatter(projected_data[y==1, 0], np.zeros((50,1)), color='blue', marker='o', alpha=0.5)\n",
    "ax[0].set_xlabel('PC1')\n",
    "ax[0].set_ylabel('PC2')\n",
    "ax[1].set_ylim([-1, 1])\n",
    "ax[1].set_yticks([])\n",
    "ax[1].set_xlabel('PC1')\n",
    "\n",
    "plt.show()"
   ]
  },
  {
   "cell_type": "markdown",
   "metadata": {},
   "source": [
    "### K-Means Clustering"
   ]
  },
  {
   "cell_type": "code",
   "execution_count": 33,
   "metadata": {},
   "outputs": [],
   "source": [
    "from sklearn.datasets import make_blobs\n",
    "n_clusters = 5\n",
    "X, y = make_blobs(n_samples=100, n_features = 2 ,centers= n_clusters, random_state=240)\n",
    "#Samples and featurees\n",
    "n_samples = X.shape[0]\n",
    "n_features = X.shape[1]\n"
   ]
  },
  {
   "cell_type": "code",
   "execution_count": 34,
   "metadata": {},
   "outputs": [
    {
     "data": {
      "image/png": "[encoded data removed]",
      "text/plain": [
       "<Figure size 432x288 with 1 Axes>"
      ]
     },
     "metadata": {
      "needs_background": "light"
     },
     "output_type": "display_data"
    }
   ],
   "source": [
    "#Dataset visualization\n",
    "plt.scatter(X[:, 0], X[:, 1]);"
   ]
  },
  {
   "cell_type": "code",
   "execution_count": 35,
   "metadata": {},
   "outputs": [],
   "source": [
    "def centroid_initialization(X , n_clusters):\n",
    "    centroids = np.zeros((n_clusters, n_features))\n",
    "    #initial assignment (random)\n",
    "    for i in range(n_clusters):\n",
    "        centroid_current_cluster = X[np.random.choice(range(n_samples))]\n",
    "        centroids[i] = centroid_current_cluster\n",
    "\n",
    "    return centroids"
   ]
  },
  {
   "cell_type": "code",
   "execution_count": 36,
   "metadata": {},
   "outputs": [
    {
     "data": {
      "text/plain": [
       "array([[ 5.73655153, -6.42990242],\n",
       "       [-4.32846108, -0.27088264],\n",
       "       [-3.50009676,  7.11063745],\n",
       "       [-3.96560134, -2.86025628],\n",
       "       [ 6.91469029, -5.80115157]])"
      ]
     },
     "execution_count": 36,
     "metadata": {},
     "output_type": "execute_result"
    }
   ],
   "source": [
    "centroids = centroid_initialization(X, n_clusters)\n",
    "centroids"
   ]
  },
  {
   "cell_type": "code",
   "execution_count": 37,
   "metadata": {},
   "outputs": [],
   "source": [
    "def cluster_assignment(X, centroids , n_clusters):\n",
    "    current_clusters = [[] for i in range(n_clusters)]\n",
    "\n",
    "    for index, data_point in enumerate(X):\n",
    "        nearest_centroid = np.argmin(\n",
    "            np.sqrt(np.sum((data_point - centroids) ** 2, axis=1))\n",
    "        )\n",
    "        current_clusters[nearest_centroid].append(index)\n",
    "\n",
    "    return current_clusters"
   ]
  },
  {
   "cell_type": "code",
   "execution_count": 38,
   "metadata": {},
   "outputs": [
    {
     "data": {
      "text/plain": [
       "[[7, 18, 22, 23, 33, 46, 48, 51, 59, 77, 83],\n",
       " [9, 17, 37, 47, 49, 50, 58, 60, 67, 78, 88, 94],\n",
       " [0,\n",
       "  3,\n",
       "  4,\n",
       "  5,\n",
       "  11,\n",
       "  14,\n",
       "  21,\n",
       "  26,\n",
       "  30,\n",
       "  31,\n",
       "  32,\n",
       "  34,\n",
       "  35,\n",
       "  36,\n",
       "  38,\n",
       "  39,\n",
       "  41,\n",
       "  44,\n",
       "  45,\n",
       "  52,\n",
       "  56,\n",
       "  57,\n",
       "  61,\n",
       "  73,\n",
       "  74,\n",
       "  75,\n",
       "  76,\n",
       "  80,\n",
       "  81,\n",
       "  82,\n",
       "  84,\n",
       "  85,\n",
       "  86,\n",
       "  89,\n",
       "  90,\n",
       "  91,\n",
       "  93,\n",
       "  96,\n",
       "  97,\n",
       "  98],\n",
       " [2,\n",
       "  10,\n",
       "  12,\n",
       "  13,\n",
       "  15,\n",
       "  19,\n",
       "  25,\n",
       "  27,\n",
       "  28,\n",
       "  29,\n",
       "  40,\n",
       "  43,\n",
       "  53,\n",
       "  54,\n",
       "  55,\n",
       "  62,\n",
       "  63,\n",
       "  64,\n",
       "  65,\n",
       "  66,\n",
       "  69,\n",
       "  70,\n",
       "  72,\n",
       "  79,\n",
       "  87,\n",
       "  92,\n",
       "  95,\n",
       "  99],\n",
       " [1, 6, 8, 16, 20, 24, 42, 68, 71]]"
      ]
     },
     "execution_count": 38,
     "metadata": {},
     "output_type": "execute_result"
    }
   ],
   "source": [
    "current_clusters = cluster_assignment(X , centroids, n_clusters)\n",
    "current_clusters"
   ]
  },
  {
   "cell_type": "code",
   "execution_count": 39,
   "metadata": {},
   "outputs": [],
   "source": [
    "def update_centroids(X, current_clusters, n_clusters):\n",
    "    centroids = np.zeros((n_clusters, n_features))\n",
    "    for index, cluster in enumerate(current_clusters):\n",
    "        new_centroid = np.mean(X[cluster], axis=0)\n",
    "        centroids[index] = new_centroid\n",
    "\n",
    "    return centroids"
   ]
  },
  {
   "cell_type": "code",
   "execution_count": 40,
   "metadata": {},
   "outputs": [
    {
     "data": {
      "text/plain": [
       "array([[ 5.16046007, -5.34515514],\n",
       "       [-3.95197529, -0.68174893],\n",
       "       [ 0.81161833,  7.73802732],\n",
       "       [-5.4094021 , -6.96410595],\n",
       "       [ 6.87314329, -5.12795065]])"
      ]
     },
     "execution_count": 40,
     "metadata": {},
     "output_type": "execute_result"
    }
   ],
   "source": [
    "update_centroids(X , current_clusters, n_clusters)"
   ]
  },
  {
   "cell_type": "code",
   "execution_count": 41,
   "metadata": {},
   "outputs": [
    {
     "name": "stdout",
     "output_type": "stream",
     "text": [
      "[[-0.87858385  0.78969092]\n",
      " [-0.18839163  1.07590482]\n",
      " [-0.76111326 -0.40724163]\n",
      " [ 1.04260017 -0.83141162]\n",
      " [-2.11903248 -3.43569499]]\n",
      "[[ 0.          0.        ]\n",
      " [ 0.          0.        ]\n",
      " [-0.03307672 -0.52390066]\n",
      " [ 0.11868767  0.07467376]\n",
      " [-0.04414346 -0.13615635]]\n",
      "[[ 0.          0.        ]\n",
      " [ 0.          0.        ]\n",
      " [-0.13066616 -0.56195266]\n",
      " [ 0.19590317  0.31413199]\n",
      " [-0.05941772 -0.13248184]]\n",
      "[[ 0.          0.        ]\n",
      " [ 0.          0.        ]\n",
      " [-0.02677869 -0.49719978]\n",
      " [ 0.1423206  -0.03806819]\n",
      " [-0.0682764  -0.13182296]]\n",
      "[[ 0.          0.        ]\n",
      " [ 0.          0.        ]\n",
      " [-0.30032139 -1.06752354]\n",
      " [ 0.16944102 -0.2573952 ]\n",
      " [-0.03232601 -0.29324438]]\n",
      "[[ 0.          0.        ]\n",
      " [ 0.          0.        ]\n",
      " [-0.73750708 -2.91549625]\n",
      " [ 0.27778853 -0.40418734]\n",
      " [-0.26235321 -0.9891711 ]]\n",
      "[[ 0.          0.        ]\n",
      " [ 0.          0.        ]\n",
      " [-0.2344324  -1.33553466]\n",
      " [-0.05471025 -0.17475766]\n",
      " [-0.47997723 -1.82282947]]\n",
      "[[ 0.          0.        ]\n",
      " [ 0.          0.        ]\n",
      " [-0.03046572 -0.13489422]\n",
      " [ 0.          0.        ]\n",
      " [-0.06916523 -0.23412747]]\n",
      "[[0. 0.]\n",
      " [0. 0.]\n",
      " [0. 0.]\n",
      " [0. 0.]\n",
      " [0. 0.]]\n",
      "K-Means Converged\n"
     ]
    }
   ],
   "source": [
    "n_iter = 1000\n",
    "centroids = centroid_initialization(X, n_clusters)\n",
    "for it in range(n_iter):\n",
    "    clusters = cluster_assignment(X, centroids,n_clusters)\n",
    "    previous_centroids = centroids.copy()\n",
    "    centroids = update_centroids(X, clusters,n_clusters)\n",
    "    diff = centroids - previous_centroids\n",
    "    print(diff)\n",
    "    if not diff.any():\n",
    "        print(\"K-Means Converged\")\n",
    "        break"
   ]
  },
  {
   "cell_type": "code",
   "execution_count": 42,
   "metadata": {},
   "outputs": [],
   "source": [
    "#Assigning clusters_ids to all data points\n",
    "y_pred = np.zeros(n_samples)\n",
    "for cluster_id, cluster in enumerate(clusters):\n",
    "    for index in cluster:\n",
    "        y_pred[index] = cluster_id"
   ]
  },
  {
   "cell_type": "code",
   "execution_count": 43,
   "metadata": {},
   "outputs": [
    {
     "data": {
      "text/plain": [
       "array([0., 1., 2., 3., 0., 3., 1., 1., 1., 2., 4., 0., 4., 2., 0., 4., 1.,\n",
       "       2., 1., 4., 1., 3., 1., 1., 1., 4., 3., 2., 2., 4., 3., 3., 3., 1.,\n",
       "       0., 3., 3., 2., 0., 3., 2., 3., 1., 4., 0., 0., 1., 2., 1., 2., 2.,\n",
       "       1., 3., 4., 2., 4., 0., 3., 2., 1., 2., 0., 4., 4., 4., 2., 4., 2.,\n",
       "       1., 4., 4., 1., 4., 3., 3., 0., 3., 1., 2., 4., 0., 0., 3., 1., 0.,\n",
       "       0., 3., 2., 2., 0., 3., 0., 4., 0., 2., 4., 0., 0., 3., 4.])"
      ]
     },
     "execution_count": 43,
     "metadata": {},
     "output_type": "execute_result"
    }
   ],
   "source": [
    "y_pred"
   ]
  },
  {
   "cell_type": "code",
   "execution_count": 44,
   "metadata": {},
   "outputs": [
    {
     "data": {
      "text/plain": [
       "<matplotlib.collections.PathCollection at 0x7f612b2bee20>"
      ]
     },
     "execution_count": 44,
     "metadata": {},
     "output_type": "execute_result"
    },
    {
     "data": {
      "image/png": "[encoded data removed]",
      "text/plain": [
       "<Figure size 432x288 with 1 Axes>"
      ]
     },
     "metadata": {
      "needs_background": "light"
     },
     "output_type": "display_data"
    }
   ],
   "source": [
    "#Visualization\n",
    "plt.scatter(X[:, 0], X[:, 1], c=y_pred, s=40, cmap= 'Accent')"
   ]
  },
  {
   "cell_type": "markdown",
   "metadata": {},
   "source": [
    "### K-Means++"
   ]
  },
  {
   "cell_type": "code",
   "execution_count": 45,
   "metadata": {},
   "outputs": [],
   "source": [
    "def plot( centroids):\n",
    "    plt.scatter(X[:, 0], X[:, 1], color = 'green', label = 'data')\n",
    "    plt.scatter(centroids[:-1, 0], centroids[:-1, 1],color = 'black', label = 'previous centroids')\n",
    "    plt.scatter(centroids[-1, 0], centroids[-1, 1], color = 'red', label = 'next one centroid')\n",
    "    plt.title('Select % d th centroid'%(centroids.shape[0]))\n",
    "     \n",
    "    #plt.legend()\n",
    "#     plt.xlim(-5, 12)\n",
    "#     plt.ylim(-10, 15)\n",
    "    plt.show()"
   ]
  },
  {
   "cell_type": "code",
   "execution_count": 46,
   "metadata": {},
   "outputs": [],
   "source": [
    "def distance(p1, p2):\n",
    "    return np.sum((p1 - p2)**2)"
   ]
  },
  {
   "cell_type": "code",
   "execution_count": 47,
   "metadata": {},
   "outputs": [],
   "source": [
    "def initialize_kmeans_plus(X, k):\n",
    "    centroids = []\n",
    "    centroids.append(X[np.random.choice(range(n_samples))])\n",
    "    plot(np.array(centroids))\n",
    "    ## compute remaining k - 1 centroids\n",
    "    for c_id in range(k - 1):\n",
    "         \n",
    "        ## List to store distances of data from the nearest mean\n",
    "        dist = []\n",
    "        for i in range(X.shape[0]):\n",
    "            point = X[i, :]\n",
    "            d = sys.maxsize\n",
    "             \n",
    "            #finding closest centroid for 'point' from so far selected centroids \n",
    "            for j in range(len(centroids)):\n",
    "                temp_dist = distance(point, centroids[j])\n",
    "                d = min(d, temp_dist)\n",
    "            dist.append(d)\n",
    "             \n",
    "        # select a data point as next centroid with probability proportional to above distance\n",
    "        dist = np.array(dist)\n",
    "        p = dist / np.sum(dist)\n",
    "        index = np.random.choice(range(n_samples), p = p)\n",
    "        next_centroid = X[index, :]\n",
    "        #next_centroid = X[np.argmax(dist), :]\n",
    "        centroids.append(next_centroid)\n",
    "        dist = []\n",
    "        plot( np.array(centroids))\n",
    "    return centroids\n",
    "  \n",
    "\n"
   ]
  },
  {
   "cell_type": "code",
   "execution_count": 48,
   "metadata": {},
   "outputs": [
    {
     "data": {
      "image/png": "[encoded data removed]",
      "text/plain": [
       "<Figure size 432x288 with 1 Axes>"
      ]
     },
     "metadata": {
      "needs_background": "light"
     },
     "output_type": "display_data"
    },
    {
     "data": {
      "image/png": "[encoded data removed]",
      "text/plain": [
       "<Figure size 432x288 with 1 Axes>"
      ]
     },
     "metadata": {
      "needs_background": "light"
     },
     "output_type": "display_data"
    },
    {
     "data": {
      "image/png": "[encoded data removed]",
      "text/plain": [
       "<Figure size 432x288 with 1 Axes>"
      ]
     },
     "metadata": {
      "needs_background": "light"
     },
     "output_type": "display_data"
    },
    {
     "data": {
      "image/png": "[encoded data removed]",
      "text/plain": [
       "<Figure size 432x288 with 1 Axes>"
      ]
     },
     "metadata": {
      "needs_background": "light"
     },
     "output_type": "display_data"
    },
    {
     "data": {
      "image/png": "[encoded data removed]",
      "text/plain": [
       "<Figure size 432x288 with 1 Axes>"
      ]
     },
     "metadata": {
      "needs_background": "light"
     },
     "output_type": "display_data"
    }
   ],
   "source": [
    "centroids = initialize_kmeans_plus(X, k = 5)"
   ]
  },
  {
   "cell_type": "code",
   "execution_count": 49,
   "metadata": {},
   "outputs": [
    {
     "name": "stdout",
     "output_type": "stream",
     "text": [
      "[[-1.26281758  0.540632  ]\n",
      " [-1.184003   -1.71689855]\n",
      " [ 0.83586681 -0.84412263]\n",
      " [ 1.56972471 -1.58699075]\n",
      " [-1.10062606  0.28729011]]\n",
      "[[0. 0.]\n",
      " [0. 0.]\n",
      " [0. 0.]\n",
      " [0. 0.]\n",
      " [0. 0.]]\n",
      "K-Means Converged\n"
     ]
    }
   ],
   "source": [
    "n_iter = 1000\n",
    "#centroids = initialize_kmeans_plus(X, k = 5)\n",
    "for it in range(n_iter):\n",
    "    clusters = cluster_assignment(X, centroids,n_clusters)\n",
    "    previous_centroids = centroids.copy()\n",
    "    centroids = update_centroids(X, clusters,n_clusters)\n",
    "    diff = centroids - previous_centroids\n",
    "    print(diff)\n",
    "    if not diff.any():\n",
    "        print(\"K-Means Converged\")\n",
    "        break"
   ]
  },
  {
   "cell_type": "code",
   "execution_count": 50,
   "metadata": {},
   "outputs": [],
   "source": [
    "#Assigning clusters_ids to all data points\n",
    "y_pred = np.zeros(n_samples)\n",
    "for cluster_id, cluster in enumerate(clusters):\n",
    "    for index in cluster:\n",
    "        y_pred[index] = cluster_id"
   ]
  },
  {
   "cell_type": "code",
   "execution_count": 51,
   "metadata": {},
   "outputs": [
    {
     "data": {
      "text/plain": [
       "<matplotlib.collections.PathCollection at 0x7f612b04d1c0>"
      ]
     },
     "execution_count": 51,
     "metadata": {},
     "output_type": "execute_result"
    },
    {
     "data": {
      "image/png": "[encoded data removed]",
      "text/plain": [
       "<Figure size 432x288 with 1 Axes>"
      ]
     },
     "metadata": {
      "needs_background": "light"
     },
     "output_type": "display_data"
    }
   ],
   "source": [
    "#Visualization\n",
    "plt.scatter(X[:, 0], X[:, 1], c=y_pred, s=40, cmap= 'Accent')"
   ]
  },
  {
   "cell_type": "code",
   "execution_count": null,
   "metadata": {},
   "outputs": [],
   "source": []
  }
 ],
 "metadata": {
  "kernelspec": {
   "display_name": "Python 3 (ipykernel)",
   "language": "python",
   "name": "python3"
  },
  "language_info": {
   "codemirror_mode": {
    "name": "ipython",
    "version": 3
   },
   "file_extension": ".py",
   "mimetype": "text/x-python",
   "name": "python",
   "nbconvert_exporter": "python",
   "pygments_lexer": "ipython3",
   "version": "3.9.7"
  }
 },
 "nbformat": 4,
 "nbformat_minor": 2
}
